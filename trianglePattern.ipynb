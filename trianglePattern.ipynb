{
 "cells": [
  {
   "cell_type": "markdown",
   "id": "cfbba8ee",
   "metadata": {},
   "source": [
    "# Create lower triangular pattern containing the \"*\" character."
   ]
  },
  {
   "cell_type": "code",
   "execution_count": 3,
   "id": "18f5d707",
   "metadata": {},
   "outputs": [
    {
     "name": "stdout",
     "output_type": "stream",
     "text": [
      "* \n",
      "* * \n",
      "* * * \n",
      "* * * * \n"
     ]
    }
   ],
   "source": [
    "rows = int(input(\"Enter number of rows: \"))\n",
    "\n",
    "for i in range (1, rows+1):\n",
    "    print(\"* \" * i)"
   ]
  },
  {
   "cell_type": "markdown",
   "id": "cdf86226",
   "metadata": {},
   "source": [
    "# Create upper triangular pattern containing the \"*\" character."
   ]
  },
  {
   "cell_type": "code",
   "execution_count": 4,
   "id": "05477219",
   "metadata": {},
   "outputs": [
    {
     "name": "stdout",
     "output_type": "stream",
     "text": [
      "* * * * \n",
      "* * * \n",
      "* * \n",
      "* \n"
     ]
    }
   ],
   "source": [
    "rows = int(input(\"Enter number of rows: \"))\n",
    "\n",
    "for i in range (rows, 0, -1):\n",
    "    print(\"* \" * i)"
   ]
  },
  {
   "cell_type": "markdown",
   "id": "f1beb66c",
   "metadata": {},
   "source": [
    "# Create pyramid pattern containing the \"*\" character."
   ]
  },
  {
   "cell_type": "code",
   "execution_count": 5,
   "id": "9d8d8293",
   "metadata": {},
   "outputs": [
    {
     "name": "stdout",
     "output_type": "stream",
     "text": [
      "    * \n",
      "   * * \n",
      "  * * * \n",
      " * * * * \n",
      "* * * * * \n"
     ]
    }
   ],
   "source": [
    "rows = int(input(\"Enter number of rows: \"))\n",
    "\n",
    "for i in range (1, rows+1):\n",
    "    print(\" \" * (rows-i) + \"* \" * i)"
   ]
  },
  {
   "cell_type": "code",
   "execution_count": null,
   "id": "0746fe5f",
   "metadata": {},
   "outputs": [],
   "source": []
  }
 ],
 "metadata": {
  "kernelspec": {
   "display_name": "Python 3",
   "language": "python",
   "name": "python3"
  },
  "language_info": {
   "codemirror_mode": {
    "name": "ipython",
    "version": 3
   },
   "file_extension": ".py",
   "mimetype": "text/x-python",
   "name": "python",
   "nbconvert_exporter": "python",
   "pygments_lexer": "ipython3",
   "version": "3.12.2"
  }
 },
 "nbformat": 4,
 "nbformat_minor": 5
}
